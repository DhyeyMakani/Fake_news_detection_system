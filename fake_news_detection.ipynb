{
 "cells": [
  {
   "cell_type": "markdown",
   "metadata": {},
   "source": [
    "# Fake News Detection"
   ]
  },
  {
   "cell_type": "code",
   "execution_count": 1,
   "metadata": {
    "execution": {
     "iopub.execute_input": "2024-04-18T13:42:11.702136Z",
     "iopub.status.busy": "2024-04-18T13:42:11.701759Z",
     "iopub.status.idle": "2024-04-18T13:42:11.707078Z",
     "shell.execute_reply": "2024-04-18T13:42:11.706242Z",
     "shell.execute_reply.started": "2024-04-18T13:42:11.702106Z"
    }
   },
   "outputs": [],
   "source": [
    "import pandas as pd\n",
    "import numpy as np\n",
    "import seaborn as sns\n",
    "import matplotlib.pyplot as plt\n",
    "from sklearn.model_selection import train_test_split\n",
    "from sklearn.metrics import accuracy_score\n",
    "from sklearn.metrics import classification_report\n",
    "import re\n",
    "import string"
   ]
  },
  {
   "cell_type": "markdown",
   "metadata": {},
   "source": [
    "## Importing Dataset"
   ]
  },
  {
   "cell_type": "code",
   "execution_count": 2,
   "metadata": {
    "execution": {
     "iopub.execute_input": "2024-04-18T13:42:14.060851Z",
     "iopub.status.busy": "2024-04-18T13:42:14.060401Z",
     "iopub.status.idle": "2024-04-18T13:42:14.892280Z",
     "shell.execute_reply": "2024-04-18T13:42:14.891273Z",
     "shell.execute_reply.started": "2024-04-18T13:42:14.060792Z"
    }
   },
   "outputs": [
    {
     "data": {
      "text/html": [
       "<div>\n",
       "<style scoped>\n",
       "    .dataframe tbody tr th:only-of-type {\n",
       "        vertical-align: middle;\n",
       "    }\n",
       "\n",
       "    .dataframe tbody tr th {\n",
       "        vertical-align: top;\n",
       "    }\n",
       "\n",
       "    .dataframe thead th {\n",
       "        text-align: right;\n",
       "    }\n",
       "</style>\n",
       "<table border=\"1\" class=\"dataframe\">\n",
       "  <thead>\n",
       "    <tr style=\"text-align: right;\">\n",
       "      <th></th>\n",
       "      <th>id</th>\n",
       "      <th>title</th>\n",
       "      <th>author</th>\n",
       "      <th>text</th>\n",
       "      <th>label</th>\n",
       "    </tr>\n",
       "  </thead>\n",
       "  <tbody>\n",
       "    <tr>\n",
       "      <th>0</th>\n",
       "      <td>0</td>\n",
       "      <td>House Dem Aide: We Didn’t Even See Comey’s Let...</td>\n",
       "      <td>Darrell Lucus</td>\n",
       "      <td>House Dem Aide: We Didn’t Even See Comey’s Let...</td>\n",
       "      <td>1</td>\n",
       "    </tr>\n",
       "    <tr>\n",
       "      <th>1</th>\n",
       "      <td>1</td>\n",
       "      <td>FLYNN: Hillary Clinton, Big Woman on Campus - ...</td>\n",
       "      <td>Daniel J. Flynn</td>\n",
       "      <td>Ever get the feeling your life circles the rou...</td>\n",
       "      <td>0</td>\n",
       "    </tr>\n",
       "    <tr>\n",
       "      <th>2</th>\n",
       "      <td>2</td>\n",
       "      <td>Why the Truth Might Get You Fired</td>\n",
       "      <td>Consortiumnews.com</td>\n",
       "      <td>Why the Truth Might Get You Fired October 29, ...</td>\n",
       "      <td>1</td>\n",
       "    </tr>\n",
       "    <tr>\n",
       "      <th>3</th>\n",
       "      <td>3</td>\n",
       "      <td>15 Civilians Killed In Single US Airstrike Hav...</td>\n",
       "      <td>Jessica Purkiss</td>\n",
       "      <td>Videos 15 Civilians Killed In Single US Airstr...</td>\n",
       "      <td>1</td>\n",
       "    </tr>\n",
       "    <tr>\n",
       "      <th>4</th>\n",
       "      <td>4</td>\n",
       "      <td>Iranian woman jailed for fictional unpublished...</td>\n",
       "      <td>Howard Portnoy</td>\n",
       "      <td>Print \\nAn Iranian woman has been sentenced to...</td>\n",
       "      <td>1</td>\n",
       "    </tr>\n",
       "    <tr>\n",
       "      <th>...</th>\n",
       "      <td>...</td>\n",
       "      <td>...</td>\n",
       "      <td>...</td>\n",
       "      <td>...</td>\n",
       "      <td>...</td>\n",
       "    </tr>\n",
       "    <tr>\n",
       "      <th>20795</th>\n",
       "      <td>20795</td>\n",
       "      <td>Rapper T.I.: Trump a ’Poster Child For White S...</td>\n",
       "      <td>Jerome Hudson</td>\n",
       "      <td>Rapper T. I. unloaded on black celebrities who...</td>\n",
       "      <td>0</td>\n",
       "    </tr>\n",
       "    <tr>\n",
       "      <th>20796</th>\n",
       "      <td>20796</td>\n",
       "      <td>N.F.L. Playoffs: Schedule, Matchups and Odds -...</td>\n",
       "      <td>Benjamin Hoffman</td>\n",
       "      <td>When the Green Bay Packers lost to the Washing...</td>\n",
       "      <td>0</td>\n",
       "    </tr>\n",
       "    <tr>\n",
       "      <th>20797</th>\n",
       "      <td>20797</td>\n",
       "      <td>Macy’s Is Said to Receive Takeover Approach by...</td>\n",
       "      <td>Michael J. de la Merced and Rachel Abrams</td>\n",
       "      <td>The Macy’s of today grew from the union of sev...</td>\n",
       "      <td>0</td>\n",
       "    </tr>\n",
       "    <tr>\n",
       "      <th>20798</th>\n",
       "      <td>20798</td>\n",
       "      <td>NATO, Russia To Hold Parallel Exercises In Bal...</td>\n",
       "      <td>Alex Ansary</td>\n",
       "      <td>NATO, Russia To Hold Parallel Exercises In Bal...</td>\n",
       "      <td>1</td>\n",
       "    </tr>\n",
       "    <tr>\n",
       "      <th>20799</th>\n",
       "      <td>20799</td>\n",
       "      <td>What Keeps the F-35 Alive</td>\n",
       "      <td>David Swanson</td>\n",
       "      <td>David Swanson is an author, activist, journa...</td>\n",
       "      <td>1</td>\n",
       "    </tr>\n",
       "  </tbody>\n",
       "</table>\n",
       "<p>20800 rows × 5 columns</p>\n",
       "</div>"
      ],
      "text/plain": [
       "          id                                              title   \n",
       "0          0  House Dem Aide: We Didn’t Even See Comey’s Let...  \\\n",
       "1          1  FLYNN: Hillary Clinton, Big Woman on Campus - ...   \n",
       "2          2                  Why the Truth Might Get You Fired   \n",
       "3          3  15 Civilians Killed In Single US Airstrike Hav...   \n",
       "4          4  Iranian woman jailed for fictional unpublished...   \n",
       "...      ...                                                ...   \n",
       "20795  20795  Rapper T.I.: Trump a ’Poster Child For White S...   \n",
       "20796  20796  N.F.L. Playoffs: Schedule, Matchups and Odds -...   \n",
       "20797  20797  Macy’s Is Said to Receive Takeover Approach by...   \n",
       "20798  20798  NATO, Russia To Hold Parallel Exercises In Bal...   \n",
       "20799  20799                          What Keeps the F-35 Alive   \n",
       "\n",
       "                                          author   \n",
       "0                                  Darrell Lucus  \\\n",
       "1                                Daniel J. Flynn   \n",
       "2                             Consortiumnews.com   \n",
       "3                                Jessica Purkiss   \n",
       "4                                 Howard Portnoy   \n",
       "...                                          ...   \n",
       "20795                              Jerome Hudson   \n",
       "20796                           Benjamin Hoffman   \n",
       "20797  Michael J. de la Merced and Rachel Abrams   \n",
       "20798                                Alex Ansary   \n",
       "20799                              David Swanson   \n",
       "\n",
       "                                                    text  label  \n",
       "0      House Dem Aide: We Didn’t Even See Comey’s Let...      1  \n",
       "1      Ever get the feeling your life circles the rou...      0  \n",
       "2      Why the Truth Might Get You Fired October 29, ...      1  \n",
       "3      Videos 15 Civilians Killed In Single US Airstr...      1  \n",
       "4      Print \\nAn Iranian woman has been sentenced to...      1  \n",
       "...                                                  ...    ...  \n",
       "20795  Rapper T. I. unloaded on black celebrities who...      0  \n",
       "20796  When the Green Bay Packers lost to the Washing...      0  \n",
       "20797  The Macy’s of today grew from the union of sev...      0  \n",
       "20798  NATO, Russia To Hold Parallel Exercises In Bal...      1  \n",
       "20799    David Swanson is an author, activist, journa...      1  \n",
       "\n",
       "[20800 rows x 5 columns]"
      ]
     },
     "execution_count": 2,
     "metadata": {},
     "output_type": "execute_result"
    }
   ],
   "source": [
    "train = pd.read_csv(\"train.csv\")\n",
    "train"
   ]
  },
  {
   "cell_type": "code",
   "execution_count": 3,
   "metadata": {
    "execution": {
     "iopub.execute_input": "2024-04-18T13:42:16.140813Z",
     "iopub.status.busy": "2024-04-18T13:42:16.140479Z",
     "iopub.status.idle": "2024-04-18T13:42:16.152870Z",
     "shell.execute_reply": "2024-04-18T13:42:16.152014Z",
     "shell.execute_reply.started": "2024-04-18T13:42:16.140785Z"
    }
   },
   "outputs": [
    {
     "data": {
      "text/html": [
       "<div>\n",
       "<style scoped>\n",
       "    .dataframe tbody tr th:only-of-type {\n",
       "        vertical-align: middle;\n",
       "    }\n",
       "\n",
       "    .dataframe tbody tr th {\n",
       "        vertical-align: top;\n",
       "    }\n",
       "\n",
       "    .dataframe thead th {\n",
       "        text-align: right;\n",
       "    }\n",
       "</style>\n",
       "<table border=\"1\" class=\"dataframe\">\n",
       "  <thead>\n",
       "    <tr style=\"text-align: right;\">\n",
       "      <th></th>\n",
       "      <th>id</th>\n",
       "      <th>title</th>\n",
       "      <th>author</th>\n",
       "      <th>text</th>\n",
       "      <th>label</th>\n",
       "    </tr>\n",
       "  </thead>\n",
       "  <tbody>\n",
       "    <tr>\n",
       "      <th>0</th>\n",
       "      <td>0</td>\n",
       "      <td>House Dem Aide: We Didn’t Even See Comey’s Let...</td>\n",
       "      <td>Darrell Lucus</td>\n",
       "      <td>House Dem Aide: We Didn’t Even See Comey’s Let...</td>\n",
       "      <td>1</td>\n",
       "    </tr>\n",
       "    <tr>\n",
       "      <th>1</th>\n",
       "      <td>1</td>\n",
       "      <td>FLYNN: Hillary Clinton, Big Woman on Campus - ...</td>\n",
       "      <td>Daniel J. Flynn</td>\n",
       "      <td>Ever get the feeling your life circles the rou...</td>\n",
       "      <td>0</td>\n",
       "    </tr>\n",
       "    <tr>\n",
       "      <th>2</th>\n",
       "      <td>2</td>\n",
       "      <td>Why the Truth Might Get You Fired</td>\n",
       "      <td>Consortiumnews.com</td>\n",
       "      <td>Why the Truth Might Get You Fired October 29, ...</td>\n",
       "      <td>1</td>\n",
       "    </tr>\n",
       "    <tr>\n",
       "      <th>3</th>\n",
       "      <td>3</td>\n",
       "      <td>15 Civilians Killed In Single US Airstrike Hav...</td>\n",
       "      <td>Jessica Purkiss</td>\n",
       "      <td>Videos 15 Civilians Killed In Single US Airstr...</td>\n",
       "      <td>1</td>\n",
       "    </tr>\n",
       "    <tr>\n",
       "      <th>4</th>\n",
       "      <td>4</td>\n",
       "      <td>Iranian woman jailed for fictional unpublished...</td>\n",
       "      <td>Howard Portnoy</td>\n",
       "      <td>Print \\nAn Iranian woman has been sentenced to...</td>\n",
       "      <td>1</td>\n",
       "    </tr>\n",
       "  </tbody>\n",
       "</table>\n",
       "</div>"
      ],
      "text/plain": [
       "   id                                              title              author   \n",
       "0   0  House Dem Aide: We Didn’t Even See Comey’s Let...       Darrell Lucus  \\\n",
       "1   1  FLYNN: Hillary Clinton, Big Woman on Campus - ...     Daniel J. Flynn   \n",
       "2   2                  Why the Truth Might Get You Fired  Consortiumnews.com   \n",
       "3   3  15 Civilians Killed In Single US Airstrike Hav...     Jessica Purkiss   \n",
       "4   4  Iranian woman jailed for fictional unpublished...      Howard Portnoy   \n",
       "\n",
       "                                                text  label  \n",
       "0  House Dem Aide: We Didn’t Even See Comey’s Let...      1  \n",
       "1  Ever get the feeling your life circles the rou...      0  \n",
       "2  Why the Truth Might Get You Fired October 29, ...      1  \n",
       "3  Videos 15 Civilians Killed In Single US Airstr...      1  \n",
       "4  Print \\nAn Iranian woman has been sentenced to...      1  "
      ]
     },
     "execution_count": 3,
     "metadata": {},
     "output_type": "execute_result"
    }
   ],
   "source": [
    "train.head()"
   ]
  },
  {
   "cell_type": "code",
   "execution_count": 4,
   "metadata": {
    "execution": {
     "iopub.execute_input": "2024-04-18T13:42:20.588240Z",
     "iopub.status.busy": "2024-04-18T13:42:20.587847Z",
     "iopub.status.idle": "2024-04-18T13:42:20.593398Z",
     "shell.execute_reply": "2024-04-18T13:42:20.592622Z",
     "shell.execute_reply.started": "2024-04-18T13:42:20.588208Z"
    }
   },
   "outputs": [
    {
     "data": {
      "text/plain": [
       "(20800, 5)"
      ]
     },
     "execution_count": 4,
     "metadata": {},
     "output_type": "execute_result"
    }
   ],
   "source": [
    "train.shape"
   ]
  },
  {
   "cell_type": "code",
   "execution_count": 5,
   "metadata": {
    "execution": {
     "iopub.execute_input": "2024-04-18T13:42:23.730998Z",
     "iopub.status.busy": "2024-04-18T13:42:23.730639Z",
     "iopub.status.idle": "2024-04-18T13:42:23.736958Z",
     "shell.execute_reply": "2024-04-18T13:42:23.735970Z",
     "shell.execute_reply.started": "2024-04-18T13:42:23.730965Z"
    }
   },
   "outputs": [
    {
     "data": {
      "text/plain": [
       "Index(['id', 'title', 'author', 'text', 'label'], dtype='object')"
      ]
     },
     "execution_count": 5,
     "metadata": {},
     "output_type": "execute_result"
    }
   ],
   "source": [
    "train.columns"
   ]
  },
  {
   "cell_type": "markdown",
   "metadata": {},
   "source": [
    "## Removing columns which are not required"
   ]
  },
  {
   "cell_type": "code",
   "execution_count": 6,
   "metadata": {
    "execution": {
     "iopub.execute_input": "2024-04-18T13:42:36.841533Z",
     "iopub.status.busy": "2024-04-18T13:42:36.841193Z",
     "iopub.status.idle": "2024-04-18T13:42:36.857073Z",
     "shell.execute_reply": "2024-04-18T13:42:36.856217Z",
     "shell.execute_reply.started": "2024-04-18T13:42:36.841504Z"
    }
   },
   "outputs": [
    {
     "data": {
      "text/html": [
       "<div>\n",
       "<style scoped>\n",
       "    .dataframe tbody tr th:only-of-type {\n",
       "        vertical-align: middle;\n",
       "    }\n",
       "\n",
       "    .dataframe tbody tr th {\n",
       "        vertical-align: top;\n",
       "    }\n",
       "\n",
       "    .dataframe thead th {\n",
       "        text-align: right;\n",
       "    }\n",
       "</style>\n",
       "<table border=\"1\" class=\"dataframe\">\n",
       "  <thead>\n",
       "    <tr style=\"text-align: right;\">\n",
       "      <th></th>\n",
       "      <th>id</th>\n",
       "      <th>text</th>\n",
       "      <th>label</th>\n",
       "    </tr>\n",
       "  </thead>\n",
       "  <tbody>\n",
       "    <tr>\n",
       "      <th>0</th>\n",
       "      <td>0</td>\n",
       "      <td>House Dem Aide: We Didn’t Even See Comey’s Let...</td>\n",
       "      <td>1</td>\n",
       "    </tr>\n",
       "    <tr>\n",
       "      <th>1</th>\n",
       "      <td>1</td>\n",
       "      <td>Ever get the feeling your life circles the rou...</td>\n",
       "      <td>0</td>\n",
       "    </tr>\n",
       "    <tr>\n",
       "      <th>2</th>\n",
       "      <td>2</td>\n",
       "      <td>Why the Truth Might Get You Fired October 29, ...</td>\n",
       "      <td>1</td>\n",
       "    </tr>\n",
       "    <tr>\n",
       "      <th>3</th>\n",
       "      <td>3</td>\n",
       "      <td>Videos 15 Civilians Killed In Single US Airstr...</td>\n",
       "      <td>1</td>\n",
       "    </tr>\n",
       "    <tr>\n",
       "      <th>4</th>\n",
       "      <td>4</td>\n",
       "      <td>Print \\nAn Iranian woman has been sentenced to...</td>\n",
       "      <td>1</td>\n",
       "    </tr>\n",
       "    <tr>\n",
       "      <th>...</th>\n",
       "      <td>...</td>\n",
       "      <td>...</td>\n",
       "      <td>...</td>\n",
       "    </tr>\n",
       "    <tr>\n",
       "      <th>20795</th>\n",
       "      <td>20795</td>\n",
       "      <td>Rapper T. I. unloaded on black celebrities who...</td>\n",
       "      <td>0</td>\n",
       "    </tr>\n",
       "    <tr>\n",
       "      <th>20796</th>\n",
       "      <td>20796</td>\n",
       "      <td>When the Green Bay Packers lost to the Washing...</td>\n",
       "      <td>0</td>\n",
       "    </tr>\n",
       "    <tr>\n",
       "      <th>20797</th>\n",
       "      <td>20797</td>\n",
       "      <td>The Macy’s of today grew from the union of sev...</td>\n",
       "      <td>0</td>\n",
       "    </tr>\n",
       "    <tr>\n",
       "      <th>20798</th>\n",
       "      <td>20798</td>\n",
       "      <td>NATO, Russia To Hold Parallel Exercises In Bal...</td>\n",
       "      <td>1</td>\n",
       "    </tr>\n",
       "    <tr>\n",
       "      <th>20799</th>\n",
       "      <td>20799</td>\n",
       "      <td>David Swanson is an author, activist, journa...</td>\n",
       "      <td>1</td>\n",
       "    </tr>\n",
       "  </tbody>\n",
       "</table>\n",
       "<p>20800 rows × 3 columns</p>\n",
       "</div>"
      ],
      "text/plain": [
       "          id                                               text  label\n",
       "0          0  House Dem Aide: We Didn’t Even See Comey’s Let...      1\n",
       "1          1  Ever get the feeling your life circles the rou...      0\n",
       "2          2  Why the Truth Might Get You Fired October 29, ...      1\n",
       "3          3  Videos 15 Civilians Killed In Single US Airstr...      1\n",
       "4          4  Print \\nAn Iranian woman has been sentenced to...      1\n",
       "...      ...                                                ...    ...\n",
       "20795  20795  Rapper T. I. unloaded on black celebrities who...      0\n",
       "20796  20796  When the Green Bay Packers lost to the Washing...      0\n",
       "20797  20797  The Macy’s of today grew from the union of sev...      0\n",
       "20798  20798  NATO, Russia To Hold Parallel Exercises In Bal...      1\n",
       "20799  20799    David Swanson is an author, activist, journa...      1\n",
       "\n",
       "[20800 rows x 3 columns]"
      ]
     },
     "execution_count": 6,
     "metadata": {},
     "output_type": "execute_result"
    }
   ],
   "source": [
    "train = train.drop([\"title\", \"author\"], axis = 1)\n",
    "train"
   ]
  },
  {
   "cell_type": "code",
   "execution_count": 7,
   "metadata": {
    "execution": {
     "iopub.execute_input": "2024-04-18T13:42:51.162846Z",
     "iopub.status.busy": "2024-04-18T13:42:51.162514Z",
     "iopub.status.idle": "2024-04-18T13:42:51.174212Z",
     "shell.execute_reply": "2024-04-18T13:42:51.173374Z",
     "shell.execute_reply.started": "2024-04-18T13:42:51.162816Z"
    }
   },
   "outputs": [
    {
     "data": {
      "text/plain": [
       "id        0\n",
       "text     39\n",
       "label     0\n",
       "dtype: int64"
      ]
     },
     "execution_count": 7,
     "metadata": {},
     "output_type": "execute_result"
    }
   ],
   "source": [
    "train.isnull().sum()"
   ]
  },
  {
   "cell_type": "code",
   "execution_count": 8,
   "metadata": {
    "execution": {
     "iopub.execute_input": "2024-04-18T13:42:53.528266Z",
     "iopub.status.busy": "2024-04-18T13:42:53.527876Z",
     "iopub.status.idle": "2024-04-18T13:42:53.550010Z",
     "shell.execute_reply": "2024-04-18T13:42:53.549233Z",
     "shell.execute_reply.started": "2024-04-18T13:42:53.528232Z"
    }
   },
   "outputs": [
    {
     "data": {
      "text/html": [
       "<div>\n",
       "<style scoped>\n",
       "    .dataframe tbody tr th:only-of-type {\n",
       "        vertical-align: middle;\n",
       "    }\n",
       "\n",
       "    .dataframe tbody tr th {\n",
       "        vertical-align: top;\n",
       "    }\n",
       "\n",
       "    .dataframe thead th {\n",
       "        text-align: right;\n",
       "    }\n",
       "</style>\n",
       "<table border=\"1\" class=\"dataframe\">\n",
       "  <thead>\n",
       "    <tr style=\"text-align: right;\">\n",
       "      <th></th>\n",
       "      <th>id</th>\n",
       "      <th>text</th>\n",
       "      <th>label</th>\n",
       "    </tr>\n",
       "  </thead>\n",
       "  <tbody>\n",
       "    <tr>\n",
       "      <th>0</th>\n",
       "      <td>0</td>\n",
       "      <td>House Dem Aide: We Didn’t Even See Comey’s Let...</td>\n",
       "      <td>1</td>\n",
       "    </tr>\n",
       "    <tr>\n",
       "      <th>1</th>\n",
       "      <td>1</td>\n",
       "      <td>Ever get the feeling your life circles the rou...</td>\n",
       "      <td>0</td>\n",
       "    </tr>\n",
       "    <tr>\n",
       "      <th>2</th>\n",
       "      <td>2</td>\n",
       "      <td>Why the Truth Might Get You Fired October 29, ...</td>\n",
       "      <td>1</td>\n",
       "    </tr>\n",
       "    <tr>\n",
       "      <th>3</th>\n",
       "      <td>3</td>\n",
       "      <td>Videos 15 Civilians Killed In Single US Airstr...</td>\n",
       "      <td>1</td>\n",
       "    </tr>\n",
       "    <tr>\n",
       "      <th>4</th>\n",
       "      <td>4</td>\n",
       "      <td>Print \\nAn Iranian woman has been sentenced to...</td>\n",
       "      <td>1</td>\n",
       "    </tr>\n",
       "    <tr>\n",
       "      <th>...</th>\n",
       "      <td>...</td>\n",
       "      <td>...</td>\n",
       "      <td>...</td>\n",
       "    </tr>\n",
       "    <tr>\n",
       "      <th>20795</th>\n",
       "      <td>20795</td>\n",
       "      <td>Rapper T. I. unloaded on black celebrities who...</td>\n",
       "      <td>0</td>\n",
       "    </tr>\n",
       "    <tr>\n",
       "      <th>20796</th>\n",
       "      <td>20796</td>\n",
       "      <td>When the Green Bay Packers lost to the Washing...</td>\n",
       "      <td>0</td>\n",
       "    </tr>\n",
       "    <tr>\n",
       "      <th>20797</th>\n",
       "      <td>20797</td>\n",
       "      <td>The Macy’s of today grew from the union of sev...</td>\n",
       "      <td>0</td>\n",
       "    </tr>\n",
       "    <tr>\n",
       "      <th>20798</th>\n",
       "      <td>20798</td>\n",
       "      <td>NATO, Russia To Hold Parallel Exercises In Bal...</td>\n",
       "      <td>1</td>\n",
       "    </tr>\n",
       "    <tr>\n",
       "      <th>20799</th>\n",
       "      <td>20799</td>\n",
       "      <td>David Swanson is an author, activist, journa...</td>\n",
       "      <td>1</td>\n",
       "    </tr>\n",
       "  </tbody>\n",
       "</table>\n",
       "<p>20761 rows × 3 columns</p>\n",
       "</div>"
      ],
      "text/plain": [
       "          id                                               text  label\n",
       "0          0  House Dem Aide: We Didn’t Even See Comey’s Let...      1\n",
       "1          1  Ever get the feeling your life circles the rou...      0\n",
       "2          2  Why the Truth Might Get You Fired October 29, ...      1\n",
       "3          3  Videos 15 Civilians Killed In Single US Airstr...      1\n",
       "4          4  Print \\nAn Iranian woman has been sentenced to...      1\n",
       "...      ...                                                ...    ...\n",
       "20795  20795  Rapper T. I. unloaded on black celebrities who...      0\n",
       "20796  20796  When the Green Bay Packers lost to the Washing...      0\n",
       "20797  20797  The Macy’s of today grew from the union of sev...      0\n",
       "20798  20798  NATO, Russia To Hold Parallel Exercises In Bal...      1\n",
       "20799  20799    David Swanson is an author, activist, journa...      1\n",
       "\n",
       "[20761 rows x 3 columns]"
      ]
     },
     "execution_count": 8,
     "metadata": {},
     "output_type": "execute_result"
    }
   ],
   "source": [
    "# drop null values (row wise)\n",
    "df = train.dropna()\n",
    "df"
   ]
  },
  {
   "cell_type": "markdown",
   "metadata": {},
   "source": [
    "## Random Shuffling the dataframe"
   ]
  },
  {
   "cell_type": "code",
   "execution_count": 9,
   "metadata": {
    "execution": {
     "iopub.execute_input": "2024-04-18T13:43:10.072272Z",
     "iopub.status.busy": "2024-04-18T13:43:10.071886Z",
     "iopub.status.idle": "2024-04-18T13:43:10.079397Z",
     "shell.execute_reply": "2024-04-18T13:43:10.078568Z",
     "shell.execute_reply.started": "2024-04-18T13:43:10.072220Z"
    }
   },
   "outputs": [],
   "source": [
    "df = df.sample(frac = 1)"
   ]
  },
  {
   "cell_type": "code",
   "execution_count": 10,
   "metadata": {
    "execution": {
     "iopub.execute_input": "2024-04-18T13:43:12.204293Z",
     "iopub.status.busy": "2024-04-18T13:43:12.203935Z",
     "iopub.status.idle": "2024-04-18T13:43:12.214058Z",
     "shell.execute_reply": "2024-04-18T13:43:12.213282Z",
     "shell.execute_reply.started": "2024-04-18T13:43:12.204261Z"
    }
   },
   "outputs": [
    {
     "data": {
      "text/html": [
       "<div>\n",
       "<style scoped>\n",
       "    .dataframe tbody tr th:only-of-type {\n",
       "        vertical-align: middle;\n",
       "    }\n",
       "\n",
       "    .dataframe tbody tr th {\n",
       "        vertical-align: top;\n",
       "    }\n",
       "\n",
       "    .dataframe thead th {\n",
       "        text-align: right;\n",
       "    }\n",
       "</style>\n",
       "<table border=\"1\" class=\"dataframe\">\n",
       "  <thead>\n",
       "    <tr style=\"text-align: right;\">\n",
       "      <th></th>\n",
       "      <th>id</th>\n",
       "      <th>text</th>\n",
       "      <th>label</th>\n",
       "    </tr>\n",
       "  </thead>\n",
       "  <tbody>\n",
       "    <tr>\n",
       "      <th>2969</th>\n",
       "      <td>2969</td>\n",
       "      <td>Good morning. We’re trying something new this ...</td>\n",
       "      <td>0</td>\n",
       "    </tr>\n",
       "    <tr>\n",
       "      <th>2358</th>\n",
       "      <td>2358</td>\n",
       "      <td>Donnerstag, 3. November 2016 Oettinger: \"Ich h...</td>\n",
       "      <td>1</td>\n",
       "    </tr>\n",
       "    <tr>\n",
       "      <th>15095</th>\n",
       "      <td>15095</td>\n",
       "      <td>Chris Bosh, one of the top players in the N. B...</td>\n",
       "      <td>0</td>\n",
       "    </tr>\n",
       "    <tr>\n",
       "      <th>2875</th>\n",
       "      <td>2875</td>\n",
       "      <td>Thu, 27 Oct 2016 03:59 UTC © Robyn Beck / AFP ...</td>\n",
       "      <td>1</td>\n",
       "    </tr>\n",
       "    <tr>\n",
       "      <th>2789</th>\n",
       "      <td>2789</td>\n",
       "      <td>It was a slow and gentle plunge: The world’s l...</td>\n",
       "      <td>0</td>\n",
       "    </tr>\n",
       "  </tbody>\n",
       "</table>\n",
       "</div>"
      ],
      "text/plain": [
       "          id                                               text  label\n",
       "2969    2969  Good morning. We’re trying something new this ...      0\n",
       "2358    2358  Donnerstag, 3. November 2016 Oettinger: \"Ich h...      1\n",
       "15095  15095  Chris Bosh, one of the top players in the N. B...      0\n",
       "2875    2875  Thu, 27 Oct 2016 03:59 UTC © Robyn Beck / AFP ...      1\n",
       "2789    2789  It was a slow and gentle plunge: The world’s l...      0"
      ]
     },
     "execution_count": 10,
     "metadata": {},
     "output_type": "execute_result"
    }
   ],
   "source": [
    "df.head()"
   ]
  },
  {
   "cell_type": "code",
   "execution_count": 11,
   "metadata": {
    "execution": {
     "iopub.execute_input": "2024-04-18T13:43:18.316553Z",
     "iopub.status.busy": "2024-04-18T13:43:18.316231Z",
     "iopub.status.idle": "2024-04-18T13:43:18.322927Z",
     "shell.execute_reply": "2024-04-18T13:43:18.322019Z",
     "shell.execute_reply.started": "2024-04-18T13:43:18.316525Z"
    }
   },
   "outputs": [],
   "source": [
    "df.drop([\"id\"], axis = 1, inplace = True)\n",
    "df.reset_index(drop=True, inplace = True)"
   ]
  },
  {
   "cell_type": "code",
   "execution_count": 12,
   "metadata": {
    "execution": {
     "iopub.execute_input": "2024-04-18T13:43:21.521899Z",
     "iopub.status.busy": "2024-04-18T13:43:21.521548Z",
     "iopub.status.idle": "2024-04-18T13:43:21.527234Z",
     "shell.execute_reply": "2024-04-18T13:43:21.526305Z",
     "shell.execute_reply.started": "2024-04-18T13:43:21.521865Z"
    }
   },
   "outputs": [
    {
     "data": {
      "text/plain": [
       "Index(['text', 'label'], dtype='object')"
      ]
     },
     "execution_count": 12,
     "metadata": {},
     "output_type": "execute_result"
    }
   ],
   "source": [
    "df.columns"
   ]
  },
  {
   "cell_type": "code",
   "execution_count": 13,
   "metadata": {
    "execution": {
     "iopub.execute_input": "2024-04-18T13:43:25.506067Z",
     "iopub.status.busy": "2024-04-18T13:43:25.505651Z",
     "iopub.status.idle": "2024-04-18T13:43:25.515463Z",
     "shell.execute_reply": "2024-04-18T13:43:25.514533Z",
     "shell.execute_reply.started": "2024-04-18T13:43:25.506024Z"
    }
   },
   "outputs": [
    {
     "data": {
      "text/html": [
       "<div>\n",
       "<style scoped>\n",
       "    .dataframe tbody tr th:only-of-type {\n",
       "        vertical-align: middle;\n",
       "    }\n",
       "\n",
       "    .dataframe tbody tr th {\n",
       "        vertical-align: top;\n",
       "    }\n",
       "\n",
       "    .dataframe thead th {\n",
       "        text-align: right;\n",
       "    }\n",
       "</style>\n",
       "<table border=\"1\" class=\"dataframe\">\n",
       "  <thead>\n",
       "    <tr style=\"text-align: right;\">\n",
       "      <th></th>\n",
       "      <th>text</th>\n",
       "      <th>label</th>\n",
       "    </tr>\n",
       "  </thead>\n",
       "  <tbody>\n",
       "    <tr>\n",
       "      <th>0</th>\n",
       "      <td>Good morning. We’re trying something new this ...</td>\n",
       "      <td>0</td>\n",
       "    </tr>\n",
       "    <tr>\n",
       "      <th>1</th>\n",
       "      <td>Donnerstag, 3. November 2016 Oettinger: \"Ich h...</td>\n",
       "      <td>1</td>\n",
       "    </tr>\n",
       "    <tr>\n",
       "      <th>2</th>\n",
       "      <td>Chris Bosh, one of the top players in the N. B...</td>\n",
       "      <td>0</td>\n",
       "    </tr>\n",
       "    <tr>\n",
       "      <th>3</th>\n",
       "      <td>Thu, 27 Oct 2016 03:59 UTC © Robyn Beck / AFP ...</td>\n",
       "      <td>1</td>\n",
       "    </tr>\n",
       "    <tr>\n",
       "      <th>4</th>\n",
       "      <td>It was a slow and gentle plunge: The world’s l...</td>\n",
       "      <td>0</td>\n",
       "    </tr>\n",
       "  </tbody>\n",
       "</table>\n",
       "</div>"
      ],
      "text/plain": [
       "                                                text  label\n",
       "0  Good morning. We’re trying something new this ...      0\n",
       "1  Donnerstag, 3. November 2016 Oettinger: \"Ich h...      1\n",
       "2  Chris Bosh, one of the top players in the N. B...      0\n",
       "3  Thu, 27 Oct 2016 03:59 UTC © Robyn Beck / AFP ...      1\n",
       "4  It was a slow and gentle plunge: The world’s l...      0"
      ]
     },
     "execution_count": 13,
     "metadata": {},
     "output_type": "execute_result"
    }
   ],
   "source": [
    "df.head()"
   ]
  },
  {
   "cell_type": "code",
   "execution_count": 14,
   "metadata": {},
   "outputs": [
    {
     "data": {
      "image/png": "[encoded data removed]",
      "text/plain": [
       "<Figure size 640x480 with 1 Axes>"
      ]
     },
     "metadata": {},
     "output_type": "display_data"
    },
    {
     "data": {
      "image/png": "[encoded data removed]",
      "text/plain": [
       "<Figure size 640x480 with 1 Axes>"
      ]
     },
     "metadata": {},
     "output_type": "display_data"
    }
   ],
   "source": [
    "label_counts = df['label'].value_counts()\n",
    "\n",
    "plt.bar(label_counts.index, label_counts.values)\n",
    "plt.xlabel('Label')\n",
    "plt.ylabel('Count')\n",
    "plt.title('Distribution of Labels')\n",
    "plt.xticks([0, 1])\n",
    "\n",
    "for i, count in enumerate(label_counts.values):\n",
    "    plt.text(i, count + 0.1, str(count), ha = 'center')\n",
    "\n",
    "plt.show()\n",
    "\n",
    "import matplotlib.pyplot as plt\n",
    "plt.pie(df['label'].value_counts(),labels=['1','0'],autopct=\"%0.2f\")\n",
    "plt.show()"
   ]
  },
  {
   "cell_type": "markdown",
   "metadata": {},
   "source": [
    "## Creating a function to process the texts"
   ]
  },
  {
   "cell_type": "code",
   "execution_count": 20,
   "metadata": {
    "execution": {
     "iopub.execute_input": "2024-04-18T13:43:41.282441Z",
     "iopub.status.busy": "2024-04-18T13:43:41.282090Z",
     "iopub.status.idle": "2024-04-18T13:43:41.288974Z",
     "shell.execute_reply": "2024-04-18T13:43:41.288031Z",
     "shell.execute_reply.started": "2024-04-18T13:43:41.282410Z"
    }
   },
   "outputs": [],
   "source": [
    "def wordopt(text):\n",
    "    text = str(text)\n",
    "    text = text.lower()\n",
    "    text = re.sub('\\[.*?\\]', '', text)       # remove any text within square brackets\n",
    "    text = re.sub('https?://\\S+|www\\.\\S+', '', text)  # remove URLs\n",
    "    text = re.sub('<.*?>+', '', text)        # remove HTML tags\n",
    "    text = re.sub('[%s]' % re.escape(string.punctuation), '', text)  # remove punctuation\n",
    "    text = re.sub('\\n', '', text)            # remove new lines\n",
    "    text = re.sub('\\w*\\d\\w*', '', text)      # remove words containing numbers\n",
    "    return text"
   ]
  },
  {
   "cell_type": "code",
   "execution_count": 21,
   "metadata": {
    "execution": {
     "iopub.execute_input": "2024-04-18T13:43:45.263145Z",
     "iopub.status.busy": "2024-04-18T13:43:45.262761Z",
     "iopub.status.idle": "2024-04-18T13:44:14.634867Z",
     "shell.execute_reply": "2024-04-18T13:44:14.633995Z",
     "shell.execute_reply.started": "2024-04-18T13:43:45.263111Z"
    }
   },
   "outputs": [],
   "source": [
    "df['text'] = df['text'].apply(wordopt)"
   ]
  },
  {
   "cell_type": "code",
   "execution_count": 22,
   "metadata": {
    "execution": {
     "iopub.execute_input": "2024-04-18T13:44:49.767047Z",
     "iopub.status.busy": "2024-04-18T13:44:49.766679Z",
     "iopub.status.idle": "2024-04-18T13:44:49.771247Z",
     "shell.execute_reply": "2024-04-18T13:44:49.770296Z",
     "shell.execute_reply.started": "2024-04-18T13:44:49.767015Z"
    }
   },
   "outputs": [
    {
     "name": "stdout",
     "output_type": "stream",
     "text": [
      "0        good morning we’re trying something new this w...\n",
      "1        donnerstag  november  oettinger ich habe nicht...\n",
      "2        chris bosh one of the top players in the n b a...\n",
      "3        thu  oct   utc © robyn beck  afp despite offic...\n",
      "4        it was a slow and gentle plunge the world’s la...\n",
      "                               ...                        \n",
      "20756    china’s communist party celebrated its  birthd...\n",
      "20757     комментариев  поделились фото ар впервые эта ...\n",
      "20758      a black agenda radio commentary by bruce a d...\n",
      "20759    one of the three london schoolgirls who made h...\n",
      "20760    by wmwadmin on november   henrymakowcom — nov ...\n",
      "Name: text, Length: 20761, dtype: object\n",
      "0        0\n",
      "1        1\n",
      "2        0\n",
      "3        1\n",
      "4        0\n",
      "        ..\n",
      "20756    0\n",
      "20757    1\n",
      "20758    1\n",
      "20759    0\n",
      "20760    1\n",
      "Name: label, Length: 20761, dtype: int64\n"
     ]
    }
   ],
   "source": [
    "x = df[\"text\"]\n",
    "y = df[\"label\"]\n",
    "print(x)\n",
    "print(y)"
   ]
  },
  {
   "cell_type": "markdown",
   "metadata": {},
   "source": [
    "## Defining dependent and independent variables"
   ]
  },
  {
   "cell_type": "code",
   "execution_count": 23,
   "metadata": {
    "execution": {
     "iopub.execute_input": "2024-04-18T13:44:59.604572Z",
     "iopub.status.busy": "2024-04-18T13:44:59.604233Z",
     "iopub.status.idle": "2024-04-18T13:44:59.613858Z",
     "shell.execute_reply": "2024-04-18T13:44:59.613067Z",
     "shell.execute_reply.started": "2024-04-18T13:44:59.604542Z"
    }
   },
   "outputs": [],
   "source": [
    "x_train, x_test, y_train, y_test = train_test_split(x, y, test_size=0.20)"
   ]
  },
  {
   "cell_type": "markdown",
   "metadata": {},
   "source": [
    "## Convert text to vectors"
   ]
  },
  {
   "cell_type": "code",
   "execution_count": 24,
   "metadata": {
    "execution": {
     "iopub.execute_input": "2024-04-18T13:45:04.375040Z",
     "iopub.status.busy": "2024-04-18T13:45:04.374694Z",
     "iopub.status.idle": "2024-04-18T13:45:20.469174Z",
     "shell.execute_reply": "2024-04-18T13:45:20.468423Z",
     "shell.execute_reply.started": "2024-04-18T13:45:04.375002Z"
    }
   },
   "outputs": [
    {
     "name": "stdout",
     "output_type": "stream",
     "text": [
      "  (0, 25142)\t0.022018179599816896\n",
      "  (0, 140069)\t0.022085032695940865\n",
      "  (0, 22624)\t0.028384272813890738\n",
      "  (0, 138603)\t0.020612185745484866\n",
      "  (0, 54572)\t0.0328612915206436\n",
      "  (0, 151257)\t0.030481543960351888\n",
      "  (0, 2564)\t0.014799290832181948\n",
      "  (0, 27882)\t0.04847580377578157\n",
      "  (0, 116707)\t0.018955065839056193\n",
      "  (0, 32392)\t0.03843248078205861\n",
      "  (0, 102332)\t0.028557972402976955\n",
      "  (0, 124119)\t0.021606392430770737\n",
      "  (0, 34312)\t0.035910915518260436\n",
      "  (0, 22173)\t0.019473544481608523\n",
      "  (0, 4247)\t0.01586053980347813\n",
      "  (0, 96027)\t0.017250394467241453\n",
      "  (0, 105418)\t0.014476523876584033\n",
      "  (0, 36849)\t0.03702373955329726\n",
      "  (0, 103403)\t0.017866343464712102\n",
      "  (0, 9636)\t0.021464818833167004\n",
      "  (0, 137793)\t0.014416023694621555\n",
      "  (0, 120731)\t0.05335246732716966\n",
      "  (0, 55804)\t0.01953800072788897\n",
      "  (0, 83075)\t0.02249672655826245\n",
      "  (0, 129995)\t0.022183105394005396\n",
      "  :\t:\n",
      "  (16607, 92087)\t0.017887683635321273\n",
      "  (16607, 137329)\t0.018948129516764833\n",
      "  (16607, 59782)\t0.04117860769974477\n",
      "  (16607, 93953)\t0.028033170313547608\n",
      "  (16607, 36045)\t0.02192299106594871\n",
      "  (16607, 64420)\t0.025828789830279905\n",
      "  (16607, 8384)\t0.0854249692899149\n",
      "  (16607, 12561)\t0.03411048206181296\n",
      "  (16607, 151233)\t0.008571556990808\n",
      "  (16607, 96323)\t0.05355739402073037\n",
      "  (16607, 149428)\t0.034106949367357094\n",
      "  (16607, 5474)\t0.0398537073474756\n",
      "  (16607, 65421)\t0.1326115608170993\n",
      "  (16607, 135981)\t0.10192793062838666\n",
      "  (16607, 51783)\t0.006838716329304746\n",
      "  (16607, 95525)\t0.09650752207120272\n",
      "  (16607, 136047)\t0.2775977923379139\n",
      "  (16607, 59544)\t0.0070676817520892166\n",
      "  (16607, 69039)\t0.05174942774306693\n",
      "  (16607, 152219)\t0.02055135919662426\n",
      "  (16607, 50376)\t0.030413644929010226\n",
      "  (16607, 137731)\t0.1410689182355358\n",
      "  (16607, 43202)\t0.015140056989922093\n",
      "  (16607, 68671)\t0.042506656192531966\n",
      "  (16607, 9057)\t0.06092638071594892\n",
      "xv_test\n",
      "  (0, 153357)\t0.03743943943671665\n",
      "  (0, 152692)\t0.01969484029198285\n",
      "  (0, 152641)\t0.05530757803937333\n",
      "  (0, 152219)\t0.032383062707603494\n",
      "  (0, 152185)\t0.01759198305459064\n",
      "  (0, 151233)\t0.013506321644201829\n",
      "  (0, 151170)\t0.03176063396362898\n",
      "  (0, 151057)\t0.03618863692036405\n",
      "  (0, 150971)\t0.01990328209853155\n",
      "  (0, 150487)\t0.050409504528557574\n",
      "  (0, 150043)\t0.05237936544480779\n",
      "  (0, 149682)\t0.023690054371797508\n",
      "  (0, 149476)\t0.033045110875396015\n",
      "  (0, 149465)\t0.012845457250888844\n",
      "  (0, 149428)\t0.026871397399097663\n",
      "  (0, 149361)\t0.06657677047843219\n",
      "  (0, 149121)\t0.013431998224353963\n",
      "  (0, 148878)\t0.018262667142278182\n",
      "  (0, 148664)\t0.026133808312868042\n",
      "  (0, 148434)\t0.08092941734800749\n",
      "  (0, 148431)\t0.03802947245208171\n",
      "  (0, 148068)\t0.04364313506039874\n",
      "  (0, 147818)\t0.019755839881077455\n",
      "  (0, 147686)\t0.061870472068547906\n",
      "  (0, 147158)\t0.031057545456480363\n",
      "  :\t:\n",
      "  (4152, 5309)\t0.02412152109132767\n",
      "  (4152, 5181)\t0.013732530892377824\n",
      "  (4152, 5160)\t0.01932217640901442\n",
      "  (4152, 4459)\t0.0059242208956787855\n",
      "  (4152, 4396)\t0.009688740824945745\n",
      "  (4152, 4301)\t0.01730616260655008\n",
      "  (4152, 3123)\t0.022337763642334713\n",
      "  (4152, 3055)\t0.06491483191771026\n",
      "  (4152, 2564)\t0.02022280307469922\n",
      "  (4152, 2511)\t0.01976146999249799\n",
      "  (4152, 2440)\t0.014261555679604064\n",
      "  (4152, 2431)\t0.0738890693829481\n",
      "  (4152, 2373)\t0.022929748914284172\n",
      "  (4152, 2310)\t0.018100379766680323\n",
      "  (4152, 2003)\t0.017231759968677596\n",
      "  (4152, 1998)\t0.018405899920278773\n",
      "  (4152, 1949)\t0.023130485316879206\n",
      "  (4152, 1713)\t0.04073956478754729\n",
      "  (4152, 1476)\t0.00953142798340341\n",
      "  (4152, 1239)\t0.06665058729740661\n",
      "  (4152, 1229)\t0.012033139624745616\n",
      "  (4152, 858)\t0.022190822354681127\n",
      "  (4152, 779)\t0.01238942598587382\n",
      "  (4152, 427)\t0.005417772664082056\n",
      "  (4152, 328)\t0.01374662510406836\n"
     ]
    }
   ],
   "source": [
    "from sklearn.feature_extraction.text import TfidfVectorizer\n",
    "\n",
    "vectorization = TfidfVectorizer()\n",
    "xv_train = vectorization.fit_transform(x_train)\n",
    "xv_test = vectorization.transform(x_test)\n",
    "print(xv_train)\n",
    "print(\"xv_test\")\n",
    "print(xv_test)"
   ]
  },
  {
   "cell_type": "code",
   "execution_count": null,
   "metadata": {},
   "outputs": [],
   "source": [
    "import nltk\n",
    "from nltk.tokenize import word_tokenize\n",
    "from nltk.corpus import stopwords\n",
    "\n",
    "# Download NLTK resources (if not already downloaded)\n",
    "nltk.download('punkt')\n",
    "nltk.download('stopwords')\n",
    "\n",
    "# Tokenize text data and remove stopwords\n",
    "stop_words = set(stopwords.words('english'))\n",
    "word_tokens = [word.lower() for text in x_train for word in word_tokenize(text) if word.isalpha() and word.lower() not in stop_words]\n",
    "\n",
    "# Count unique words\n",
    "unique_words = set(word_tokens)\n",
    "total_unique_words = len(unique_words)\n",
    "\n",
    "print(\"Total different words:\", total_unique_words)"
   ]
  },
  {
   "cell_type": "markdown",
   "metadata": {},
   "source": [
    "## Logistic Regression"
   ]
  },
  {
   "cell_type": "code",
   "execution_count": 32,
   "metadata": {
    "execution": {
     "iopub.execute_input": "2024-04-18T13:45:33.559393Z",
     "iopub.status.busy": "2024-04-18T13:45:33.558942Z",
     "iopub.status.idle": "2024-04-18T13:45:37.848157Z",
     "shell.execute_reply": "2024-04-18T13:45:37.846972Z",
     "shell.execute_reply.started": "2024-04-18T13:45:33.559353Z"
    }
   },
   "outputs": [
    {
     "data": {
      "text/html": [
       "<style>#sk-container-id-1 {color: black;background-color: white;}#sk-container-id-1 pre{padding: 0;}#sk-container-id-1 div.sk-toggleable {background-color: white;}#sk-container-id-1 label.sk-toggleable__label {cursor: pointer;display: block;width: 100%;margin-bottom: 0;padding: 0.3em;box-sizing: border-box;text-align: center;}#sk-container-id-1 label.sk-toggleable__label-arrow:before {content: \"▸\";float: left;margin-right: 0.25em;color: #696969;}#sk-container-id-1 label.sk-toggleable__label-arrow:hover:before {color: black;}#sk-container-id-1 div.sk-estimator:hover label.sk-toggleable__label-arrow:before {color: black;}#sk-container-id-1 div.sk-toggleable__content {max-height: 0;max-width: 0;overflow: hidden;text-align: left;background-color: #f0f8ff;}#sk-container-id-1 div.sk-toggleable__content pre {margin: 0.2em;color: black;border-radius: 0.25em;background-color: #f0f8ff;}#sk-container-id-1 input.sk-toggleable__control:checked~div.sk-toggleable__content {max-height: 200px;max-width: 100%;overflow: auto;}#sk-container-id-1 input.sk-toggleable__control:checked~label.sk-toggleable__label-arrow:before {content: \"▾\";}#sk-container-id-1 div.sk-estimator input.sk-toggleable__control:checked~label.sk-toggleable__label {background-color: #d4ebff;}#sk-container-id-1 div.sk-label input.sk-toggleable__control:checked~label.sk-toggleable__label {background-color: #d4ebff;}#sk-container-id-1 input.sk-hidden--visually {border: 0;clip: rect(1px 1px 1px 1px);clip: rect(1px, 1px, 1px, 1px);height: 1px;margin: -1px;overflow: hidden;padding: 0;position: absolute;width: 1px;}#sk-container-id-1 div.sk-estimator {font-family: monospace;background-color: #f0f8ff;border: 1px dotted black;border-radius: 0.25em;box-sizing: border-box;margin-bottom: 0.5em;}#sk-container-id-1 div.sk-estimator:hover {background-color: #d4ebff;}#sk-container-id-1 div.sk-parallel-item::after {content: \"\";width: 100%;border-bottom: 1px solid gray;flex-grow: 1;}#sk-container-id-1 div.sk-label:hover label.sk-toggleable__label {background-color: #d4ebff;}#sk-container-id-1 div.sk-serial::before {content: \"\";position: absolute;border-left: 1px solid gray;box-sizing: border-box;top: 0;bottom: 0;left: 50%;z-index: 0;}#sk-container-id-1 div.sk-serial {display: flex;flex-direction: column;align-items: center;background-color: white;padding-right: 0.2em;padding-left: 0.2em;position: relative;}#sk-container-id-1 div.sk-item {position: relative;z-index: 1;}#sk-container-id-1 div.sk-parallel {display: flex;align-items: stretch;justify-content: center;background-color: white;position: relative;}#sk-container-id-1 div.sk-item::before, #sk-container-id-1 div.sk-parallel-item::before {content: \"\";position: absolute;border-left: 1px solid gray;box-sizing: border-box;top: 0;bottom: 0;left: 50%;z-index: -1;}#sk-container-id-1 div.sk-parallel-item {display: flex;flex-direction: column;z-index: 1;position: relative;background-color: white;}#sk-container-id-1 div.sk-parallel-item:first-child::after {align-self: flex-end;width: 50%;}#sk-container-id-1 div.sk-parallel-item:last-child::after {align-self: flex-start;width: 50%;}#sk-container-id-1 div.sk-parallel-item:only-child::after {width: 0;}#sk-container-id-1 div.sk-dashed-wrapped {border: 1px dashed gray;margin: 0 0.4em 0.5em 0.4em;box-sizing: border-box;padding-bottom: 0.4em;background-color: white;}#sk-container-id-1 div.sk-label label {font-family: monospace;font-weight: bold;display: inline-block;line-height: 1.2em;}#sk-container-id-1 div.sk-label-container {text-align: center;}#sk-container-id-1 div.sk-container {/* jupyter's `normalize.less` sets `[hidden] { display: none; }` but bootstrap.min.css set `[hidden] { display: none !important; }` so we also need the `!important` here to be able to override the default hidden behavior on the sphinx rendered scikit-learn.org. See: https://github.com/scikit-learn/scikit-learn/issues/21755 */display: inline-block !important;position: relative;}#sk-container-id-1 div.sk-text-repr-fallback {display: none;}</style><div id=\"sk-container-id-1\" class=\"sk-top-container\"><div class=\"sk-text-repr-fallback\"><pre>LogisticRegression()</pre><b>In a Jupyter environment, please rerun this cell to show the HTML representation or trust the notebook. <br />On GitHub, the HTML representation is unable to render, please try loading this page with nbviewer.org.</b></div><div class=\"sk-container\" hidden><div class=\"sk-item\"><div class=\"sk-estimator sk-toggleable\"><input class=\"sk-toggleable__control sk-hidden--visually\" id=\"sk-estimator-id-1\" type=\"checkbox\" checked><label for=\"sk-estimator-id-1\" class=\"sk-toggleable__label sk-toggleable__label-arrow\">LogisticRegression</label><div class=\"sk-toggleable__content\"><pre>LogisticRegression()</pre></div></div></div></div></div>"
      ],
      "text/plain": [
       "LogisticRegression()"
      ]
     },
     "execution_count": 32,
     "metadata": {},
     "output_type": "execute_result"
    }
   ],
   "source": [
    "from sklearn.linear_model import LogisticRegression\n",
    "\n",
    "LR = LogisticRegression()\n",
    "LR.fit(xv_train,y_train)"
   ]
  },
  {
   "cell_type": "code",
   "execution_count": 33,
   "metadata": {
    "execution": {
     "iopub.execute_input": "2024-04-18T13:45:43.387304Z",
     "iopub.status.busy": "2024-04-18T13:45:43.386951Z",
     "iopub.status.idle": "2024-04-18T13:45:43.396355Z",
     "shell.execute_reply": "2024-04-18T13:45:43.395517Z",
     "shell.execute_reply.started": "2024-04-18T13:45:43.387274Z"
    }
   },
   "outputs": [],
   "source": [
    "pred_lr = LR.predict(xv_test)"
   ]
  },
  {
   "cell_type": "code",
   "execution_count": 34,
   "metadata": {
    "execution": {
     "iopub.execute_input": "2024-04-18T14:29:44.126260Z",
     "iopub.status.busy": "2024-04-18T14:29:44.125878Z",
     "iopub.status.idle": "2024-04-18T14:29:44.137673Z",
     "shell.execute_reply": "2024-04-18T14:29:44.136577Z",
     "shell.execute_reply.started": "2024-04-18T14:29:44.126224Z"
    }
   },
   "outputs": [
    {
     "data": {
      "text/plain": [
       "0.9470262460871659"
      ]
     },
     "execution_count": 34,
     "metadata": {},
     "output_type": "execute_result"
    }
   ],
   "source": [
    "accuracy_model1 = LR.score(xv_test, y_test)\n",
    "accuracy_model1"
   ]
  },
  {
   "cell_type": "code",
   "execution_count": 35,
   "metadata": {},
   "outputs": [
    {
     "name": "stdout",
     "output_type": "stream",
     "text": [
      "Confusion Matrix:\n",
      "[[1936  125]\n",
      " [  95 1997]]\n"
     ]
    }
   ],
   "source": [
    "from sklearn.metrics import confusion_matrix\n",
    "\n",
    "conf_matrix = confusion_matrix(y_test, pred_lr)\n",
    "print(\"Confusion Matrix:\")\n",
    "print(conf_matrix)"
   ]
  },
  {
   "cell_type": "code",
   "execution_count": 36,
   "metadata": {},
   "outputs": [
    {
     "data": {
      "image/png": "[encoded data removed]",
      "text/plain": [
       "<Figure size 640x480 with 2 Axes>"
      ]
     },
     "metadata": {},
     "output_type": "display_data"
    }
   ],
   "source": [
    "import seaborn as sns\n",
    "import matplotlib.pyplot as plt\n",
    "\n",
    "conf_matrix = confusion_matrix(y_test, pred_lr)\n",
    "sns.heatmap(conf_matrix, annot=True, cmap=\"Blues\", fmt=\"d\")\n",
    "plt.xlabel('Predicted Labels')\n",
    "plt.ylabel('True Labels')\n",
    "plt.title('Confusion Matrix')\n",
    "plt.show()"
   ]
  },
  {
   "cell_type": "code",
   "execution_count": 37,
   "metadata": {
    "execution": {
     "iopub.execute_input": "2024-04-18T13:45:49.051618Z",
     "iopub.status.busy": "2024-04-18T13:45:49.051286Z",
     "iopub.status.idle": "2024-04-18T13:45:49.066902Z",
     "shell.execute_reply": "2024-04-18T13:45:49.065807Z",
     "shell.execute_reply.started": "2024-04-18T13:45:49.051590Z"
    }
   },
   "outputs": [
    {
     "name": "stdout",
     "output_type": "stream",
     "text": [
      "              precision    recall  f1-score   support\n",
      "\n",
      "           0       0.95      0.94      0.95      2061\n",
      "           1       0.94      0.95      0.95      2092\n",
      "\n",
      "    accuracy                           0.95      4153\n",
      "   macro avg       0.95      0.95      0.95      4153\n",
      "weighted avg       0.95      0.95      0.95      4153\n",
      "\n"
     ]
    }
   ],
   "source": [
    "print(classification_report(y_test, pred_lr))"
   ]
  },
  {
   "cell_type": "code",
   "execution_count": 38,
   "metadata": {},
   "outputs": [
    {
     "data": {
      "image/png": "[encoded data removed]",
      "text/plain": [
       "<Figure size 600x400 with 1 Axes>"
      ]
     },
     "metadata": {},
     "output_type": "display_data"
    }
   ],
   "source": [
    "from sklearn.metrics import precision_recall_fscore_support\n",
    "import numpy as np\n",
    "\n",
    "# Calculate precision, recall, and F1-score\n",
    "precision, recall, fscore, support = precision_recall_fscore_support(y_test, pred_lr)\n",
    "\n",
    "# Plotting precision, recall, and F1-score\n",
    "labels = ['Class 0', 'Class 1']\n",
    "x = np.arange(len(labels)) \n",
    "width = 0.2  \n",
    "\n",
    "fig, ax = plt.subplots(figsize=(6,4))\n",
    "\n",
    "ax.bar(x - width, precision, width, label='Precision')\n",
    "ax.bar(x, recall, width, label='Recall')\n",
    "ax.bar(x + width, fscore, width, label='F1-score')\n",
    "\n",
    "ax.set_ylabel('Scores')\n",
    "ax.set_title('Precision, Recall, and F1-score')\n",
    "ax.set_xticks(x)\n",
    "ax.set_xticklabels(labels)\n",
    "ax.legend()\n",
    "\n",
    "plt.show()"
   ]
  },
  {
   "cell_type": "markdown",
   "metadata": {},
   "source": [
    "## Decision Tree Classification"
   ]
  },
  {
   "cell_type": "code",
   "execution_count": 39,
   "metadata": {
    "execution": {
     "iopub.execute_input": "2024-04-18T13:45:58.742375Z",
     "iopub.status.busy": "2024-04-18T13:45:58.742040Z",
     "iopub.status.idle": "2024-04-18T13:46:30.147332Z",
     "shell.execute_reply": "2024-04-18T13:46:30.146519Z",
     "shell.execute_reply.started": "2024-04-18T13:45:58.742347Z"
    }
   },
   "outputs": [
    {
     "data": {
      "text/html": [
       "<style>#sk-container-id-2 {color: black;background-color: white;}#sk-container-id-2 pre{padding: 0;}#sk-container-id-2 div.sk-toggleable {background-color: white;}#sk-container-id-2 label.sk-toggleable__label {cursor: pointer;display: block;width: 100%;margin-bottom: 0;padding: 0.3em;box-sizing: border-box;text-align: center;}#sk-container-id-2 label.sk-toggleable__label-arrow:before {content: \"▸\";float: left;margin-right: 0.25em;color: #696969;}#sk-container-id-2 label.sk-toggleable__label-arrow:hover:before {color: black;}#sk-container-id-2 div.sk-estimator:hover label.sk-toggleable__label-arrow:before {color: black;}#sk-container-id-2 div.sk-toggleable__content {max-height: 0;max-width: 0;overflow: hidden;text-align: left;background-color: #f0f8ff;}#sk-container-id-2 div.sk-toggleable__content pre {margin: 0.2em;color: black;border-radius: 0.25em;background-color: #f0f8ff;}#sk-container-id-2 input.sk-toggleable__control:checked~div.sk-toggleable__content {max-height: 200px;max-width: 100%;overflow: auto;}#sk-container-id-2 input.sk-toggleable__control:checked~label.sk-toggleable__label-arrow:before {content: \"▾\";}#sk-container-id-2 div.sk-estimator input.sk-toggleable__control:checked~label.sk-toggleable__label {background-color: #d4ebff;}#sk-container-id-2 div.sk-label input.sk-toggleable__control:checked~label.sk-toggleable__label {background-color: #d4ebff;}#sk-container-id-2 input.sk-hidden--visually {border: 0;clip: rect(1px 1px 1px 1px);clip: rect(1px, 1px, 1px, 1px);height: 1px;margin: -1px;overflow: hidden;padding: 0;position: absolute;width: 1px;}#sk-container-id-2 div.sk-estimator {font-family: monospace;background-color: #f0f8ff;border: 1px dotted black;border-radius: 0.25em;box-sizing: border-box;margin-bottom: 0.5em;}#sk-container-id-2 div.sk-estimator:hover {background-color: #d4ebff;}#sk-container-id-2 div.sk-parallel-item::after {content: \"\";width: 100%;border-bottom: 1px solid gray;flex-grow: 1;}#sk-container-id-2 div.sk-label:hover label.sk-toggleable__label {background-color: #d4ebff;}#sk-container-id-2 div.sk-serial::before {content: \"\";position: absolute;border-left: 1px solid gray;box-sizing: border-box;top: 0;bottom: 0;left: 50%;z-index: 0;}#sk-container-id-2 div.sk-serial {display: flex;flex-direction: column;align-items: center;background-color: white;padding-right: 0.2em;padding-left: 0.2em;position: relative;}#sk-container-id-2 div.sk-item {position: relative;z-index: 1;}#sk-container-id-2 div.sk-parallel {display: flex;align-items: stretch;justify-content: center;background-color: white;position: relative;}#sk-container-id-2 div.sk-item::before, #sk-container-id-2 div.sk-parallel-item::before {content: \"\";position: absolute;border-left: 1px solid gray;box-sizing: border-box;top: 0;bottom: 0;left: 50%;z-index: -1;}#sk-container-id-2 div.sk-parallel-item {display: flex;flex-direction: column;z-index: 1;position: relative;background-color: white;}#sk-container-id-2 div.sk-parallel-item:first-child::after {align-self: flex-end;width: 50%;}#sk-container-id-2 div.sk-parallel-item:last-child::after {align-self: flex-start;width: 50%;}#sk-container-id-2 div.sk-parallel-item:only-child::after {width: 0;}#sk-container-id-2 div.sk-dashed-wrapped {border: 1px dashed gray;margin: 0 0.4em 0.5em 0.4em;box-sizing: border-box;padding-bottom: 0.4em;background-color: white;}#sk-container-id-2 div.sk-label label {font-family: monospace;font-weight: bold;display: inline-block;line-height: 1.2em;}#sk-container-id-2 div.sk-label-container {text-align: center;}#sk-container-id-2 div.sk-container {/* jupyter's `normalize.less` sets `[hidden] { display: none; }` but bootstrap.min.css set `[hidden] { display: none !important; }` so we also need the `!important` here to be able to override the default hidden behavior on the sphinx rendered scikit-learn.org. See: https://github.com/scikit-learn/scikit-learn/issues/21755 */display: inline-block !important;position: relative;}#sk-container-id-2 div.sk-text-repr-fallback {display: none;}</style><div id=\"sk-container-id-2\" class=\"sk-top-container\"><div class=\"sk-text-repr-fallback\"><pre>DecisionTreeClassifier()</pre><b>In a Jupyter environment, please rerun this cell to show the HTML representation or trust the notebook. <br />On GitHub, the HTML representation is unable to render, please try loading this page with nbviewer.org.</b></div><div class=\"sk-container\" hidden><div class=\"sk-item\"><div class=\"sk-estimator sk-toggleable\"><input class=\"sk-toggleable__control sk-hidden--visually\" id=\"sk-estimator-id-2\" type=\"checkbox\" checked><label for=\"sk-estimator-id-2\" class=\"sk-toggleable__label sk-toggleable__label-arrow\">DecisionTreeClassifier</label><div class=\"sk-toggleable__content\"><pre>DecisionTreeClassifier()</pre></div></div></div></div></div>"
      ],
      "text/plain": [
       "DecisionTreeClassifier()"
      ]
     },
     "execution_count": 39,
     "metadata": {},
     "output_type": "execute_result"
    }
   ],
   "source": [
    "from sklearn.tree import DecisionTreeClassifier\n",
    "\n",
    "DT = DecisionTreeClassifier()\n",
    "DT.fit(xv_train, y_train)"
   ]
  },
  {
   "cell_type": "code",
   "execution_count": 40,
   "metadata": {
    "execution": {
     "iopub.execute_input": "2024-04-18T13:47:24.186824Z",
     "iopub.status.busy": "2024-04-18T13:47:24.186481Z",
     "iopub.status.idle": "2024-04-18T13:47:24.200346Z",
     "shell.execute_reply": "2024-04-18T13:47:24.199537Z",
     "shell.execute_reply.started": "2024-04-18T13:47:24.186794Z"
    }
   },
   "outputs": [],
   "source": [
    "pred_dt = DT.predict(xv_test)"
   ]
  },
  {
   "cell_type": "code",
   "execution_count": 41,
   "metadata": {
    "execution": {
     "iopub.execute_input": "2024-04-18T14:29:55.191388Z",
     "iopub.status.busy": "2024-04-18T14:29:55.191030Z",
     "iopub.status.idle": "2024-04-18T14:29:55.212859Z",
     "shell.execute_reply": "2024-04-18T14:29:55.211801Z",
     "shell.execute_reply.started": "2024-04-18T14:29:55.191354Z"
    }
   },
   "outputs": [
    {
     "data": {
      "text/plain": [
       "0.8882735372020226"
      ]
     },
     "execution_count": 41,
     "metadata": {},
     "output_type": "execute_result"
    }
   ],
   "source": [
    "accuracy_model2 = DT.score(xv_test, y_test)\n",
    "accuracy_model2"
   ]
  },
  {
   "cell_type": "code",
   "execution_count": 42,
   "metadata": {},
   "outputs": [
    {
     "name": "stdout",
     "output_type": "stream",
     "text": [
      "Confusion Matrix:\n",
      "[[1823  238]\n",
      " [ 226 1866]]\n"
     ]
    }
   ],
   "source": [
    "from sklearn.metrics import confusion_matrix\n",
    "\n",
    "conf_matrix = confusion_matrix(y_test, pred_dt)\n",
    "print(\"Confusion Matrix:\")\n",
    "print(conf_matrix)"
   ]
  },
  {
   "cell_type": "code",
   "execution_count": 43,
   "metadata": {},
   "outputs": [
    {
     "data": {
      "image/png": "[encoded data removed]",
      "text/plain": [
       "<Figure size 640x480 with 2 Axes>"
      ]
     },
     "metadata": {},
     "output_type": "display_data"
    }
   ],
   "source": [
    "import seaborn as sns\n",
    "import matplotlib.pyplot as plt\n",
    "\n",
    "conf_matrix = confusion_matrix(y_test, pred_dt)\n",
    "sns.heatmap(conf_matrix, annot=True, cmap=\"Blues\", fmt=\"d\")\n",
    "plt.xlabel('Predicted Labels')\n",
    "plt.ylabel('True Labels')\n",
    "plt.title('Confusion Matrix')\n",
    "plt.show()"
   ]
  },
  {
   "cell_type": "code",
   "execution_count": 44,
   "metadata": {
    "execution": {
     "iopub.execute_input": "2024-04-18T13:47:29.458345Z",
     "iopub.status.busy": "2024-04-18T13:47:29.457993Z",
     "iopub.status.idle": "2024-04-18T13:47:29.473352Z",
     "shell.execute_reply": "2024-04-18T13:47:29.472558Z",
     "shell.execute_reply.started": "2024-04-18T13:47:29.458314Z"
    }
   },
   "outputs": [
    {
     "name": "stdout",
     "output_type": "stream",
     "text": [
      "              precision    recall  f1-score   support\n",
      "\n",
      "           0       0.89      0.88      0.89      2061\n",
      "           1       0.89      0.89      0.89      2092\n",
      "\n",
      "    accuracy                           0.89      4153\n",
      "   macro avg       0.89      0.89      0.89      4153\n",
      "weighted avg       0.89      0.89      0.89      4153\n",
      "\n"
     ]
    }
   ],
   "source": [
    "print(classification_report(y_test, pred_dt))"
   ]
  },
  {
   "cell_type": "code",
   "execution_count": 45,
   "metadata": {},
   "outputs": [
    {
     "data": {
      "image/png": "[encoded data removed]",
      "text/plain": [
       "<Figure size 600x400 with 1 Axes>"
      ]
     },
     "metadata": {},
     "output_type": "display_data"
    }
   ],
   "source": [
    "from sklearn.metrics import precision_recall_fscore_support\n",
    "import numpy as np\n",
    "\n",
    "# Calculate precision, recall, and F1-score\n",
    "precision, recall, fscore, support = precision_recall_fscore_support(y_test, pred_dt)\n",
    "\n",
    "# Plotting precision, recall, and F1-score\n",
    "labels = ['Class 0', 'Class 1']\n",
    "x = np.arange(len(labels)) \n",
    "width = 0.2  \n",
    "\n",
    "fig, ax = plt.subplots(figsize=(6,4))\n",
    "\n",
    "ax.bar(x - width, precision, width, label='Precision')\n",
    "ax.bar(x, recall, width, label='Recall')\n",
    "ax.bar(x + width, fscore, width, label='F1-score')\n",
    "\n",
    "ax.set_ylabel('Scores')\n",
    "ax.set_title('Precision, Recall, and F1-score')\n",
    "ax.set_xticks(x)\n",
    "ax.set_xticklabels(labels)\n",
    "ax.legend()\n",
    "\n",
    "plt.show()"
   ]
  },
  {
   "cell_type": "markdown",
   "metadata": {},
   "source": [
    "## Gradient Boosting Classifier"
   ]
  },
  {
   "cell_type": "code",
   "execution_count": null,
   "metadata": {
    "execution": {
     "iopub.execute_input": "2024-04-18T13:47:34.281186Z",
     "iopub.status.busy": "2024-04-18T13:47:34.280825Z",
     "iopub.status.idle": "2024-04-18T13:50:53.935203Z",
     "shell.execute_reply": "2024-04-18T13:50:53.934131Z",
     "shell.execute_reply.started": "2024-04-18T13:47:34.281157Z"
    }
   },
   "outputs": [],
   "source": [
    "from sklearn.ensemble import GradientBoostingClassifier\n",
    "\n",
    "GBC = GradientBoostingClassifier(random_state=0)\n",
    "GBC.fit(xv_train, y_train)"
   ]
  },
  {
   "cell_type": "code",
   "execution_count": 35,
   "metadata": {
    "execution": {
     "iopub.execute_input": "2024-04-18T13:51:24.579456Z",
     "iopub.status.busy": "2024-04-18T13:51:24.579079Z",
     "iopub.status.idle": "2024-04-18T13:51:24.606464Z",
     "shell.execute_reply": "2024-04-18T13:51:24.605652Z",
     "shell.execute_reply.started": "2024-04-18T13:51:24.579423Z"
    }
   },
   "outputs": [],
   "source": [
    "pred_gbc = GBC.predict(xv_test)"
   ]
  },
  {
   "cell_type": "code",
   "execution_count": 36,
   "metadata": {
    "execution": {
     "iopub.execute_input": "2024-04-18T14:30:02.172283Z",
     "iopub.status.busy": "2024-04-18T14:30:02.171900Z",
     "iopub.status.idle": "2024-04-18T14:30:02.199751Z",
     "shell.execute_reply": "2024-04-18T14:30:02.198970Z",
     "shell.execute_reply.started": "2024-04-18T14:30:02.172251Z"
    }
   },
   "outputs": [
    {
     "data": {
      "text/plain": [
       "0.9354683361425475"
      ]
     },
     "execution_count": 36,
     "metadata": {},
     "output_type": "execute_result"
    }
   ],
   "source": [
    "accuracy_model3 = GBC.score(xv_test, y_test)\n",
    "accuracy_model3"
   ]
  },
  {
   "cell_type": "code",
   "execution_count": 38,
   "metadata": {},
   "outputs": [
    {
     "name": "stdout",
     "output_type": "stream",
     "text": [
      "Confusion Matrix:\n",
      "[[1901  171]\n",
      " [  97 1984]]\n"
     ]
    }
   ],
   "source": [
    "from sklearn.metrics import confusion_matrix\n",
    "\n",
    "conf_matrix = confusion_matrix(y_test, pred_gbc)\n",
    "print(\"Confusion Matrix:\")\n",
    "print(conf_matrix)"
   ]
  },
  {
   "cell_type": "code",
   "execution_count": 39,
   "metadata": {},
   "outputs": [
    {
     "data": {
      "image/png": "[encoded data removed]",
      "text/plain": [
       "<Figure size 640x480 with 2 Axes>"
      ]
     },
     "metadata": {},
     "output_type": "display_data"
    }
   ],
   "source": [
    "import seaborn as sns\n",
    "import matplotlib.pyplot as plt\n",
    "\n",
    "conf_matrix = confusion_matrix(y_test, pred_gbc)\n",
    "sns.heatmap(conf_matrix, annot=True, cmap=\"Blues\", fmt=\"d\")\n",
    "plt.xlabel('Predicted Labels')\n",
    "plt.ylabel('True Labels')\n",
    "plt.title('Confusion Matrix')\n",
    "plt.show()"
   ]
  },
  {
   "cell_type": "code",
   "execution_count": 40,
   "metadata": {
    "execution": {
     "iopub.execute_input": "2024-04-18T13:51:31.245423Z",
     "iopub.status.busy": "2024-04-18T13:51:31.245079Z",
     "iopub.status.idle": "2024-04-18T13:51:31.261464Z",
     "shell.execute_reply": "2024-04-18T13:51:31.260478Z",
     "shell.execute_reply.started": "2024-04-18T13:51:31.245394Z"
    }
   },
   "outputs": [
    {
     "name": "stdout",
     "output_type": "stream",
     "text": [
      "              precision    recall  f1-score   support\n",
      "\n",
      "           0       0.95      0.92      0.93      2072\n",
      "           1       0.92      0.95      0.94      2081\n",
      "\n",
      "    accuracy                           0.94      4153\n",
      "   macro avg       0.94      0.94      0.94      4153\n",
      "weighted avg       0.94      0.94      0.94      4153\n",
      "\n"
     ]
    }
   ],
   "source": [
    "print(classification_report(y_test, pred_gbc))"
   ]
  },
  {
   "cell_type": "code",
   "execution_count": 55,
   "metadata": {},
   "outputs": [
    {
     "data": {
      "image/png": "[encoded data removed]",
      "text/plain": [
       "<Figure size 600x400 with 1 Axes>"
      ]
     },
     "metadata": {},
     "output_type": "display_data"
    }
   ],
   "source": [
    "from sklearn.metrics import precision_recall_fscore_support\n",
    "import numpy as np\n",
    "\n",
    "# Calculate precision, recall, and F1-score\n",
    "precision, recall, fscore, support = precision_recall_fscore_support(y_test, pred_gbc)\n",
    "\n",
    "# Plotting precision, recall, and F1-score\n",
    "labels = ['Class 0', 'Class 1']\n",
    "x = np.arange(len(labels)) \n",
    "width = 0.2  \n",
    "\n",
    "fig, ax = plt.subplots(figsize=(6,4))\n",
    "\n",
    "ax.bar(x - width, precision, width, label='Precision')\n",
    "ax.bar(x, recall, width, label='Recall')\n",
    "ax.bar(x + width, fscore, width, label='F1-score')\n",
    "\n",
    "ax.set_ylabel('Scores')\n",
    "ax.set_title('Precision, Recall, and F1-score')\n",
    "ax.set_xticks(x)\n",
    "ax.set_xticklabels(labels)\n",
    "ax.legend()\n",
    "\n",
    "plt.show()"
   ]
  },
  {
   "cell_type": "markdown",
   "metadata": {},
   "source": [
    "## Random Forest Classifier"
   ]
  },
  {
   "cell_type": "code",
   "execution_count": 41,
   "metadata": {
    "execution": {
     "iopub.execute_input": "2024-04-18T13:51:34.745871Z",
     "iopub.status.busy": "2024-04-18T13:51:34.745505Z",
     "iopub.status.idle": "2024-04-18T13:52:20.588645Z",
     "shell.execute_reply": "2024-04-18T13:52:20.587803Z",
     "shell.execute_reply.started": "2024-04-18T13:51:34.745841Z"
    }
   },
   "outputs": [
    {
     "data": {
      "text/html": [
       "<style>#sk-container-id-4 {color: black;}#sk-container-id-4 pre{padding: 0;}#sk-container-id-4 div.sk-toggleable {background-color: white;}#sk-container-id-4 label.sk-toggleable__label {cursor: pointer;display: block;width: 100%;margin-bottom: 0;padding: 0.3em;box-sizing: border-box;text-align: center;}#sk-container-id-4 label.sk-toggleable__label-arrow:before {content: \"▸\";float: left;margin-right: 0.25em;color: #696969;}#sk-container-id-4 label.sk-toggleable__label-arrow:hover:before {color: black;}#sk-container-id-4 div.sk-estimator:hover label.sk-toggleable__label-arrow:before {color: black;}#sk-container-id-4 div.sk-toggleable__content {max-height: 0;max-width: 0;overflow: hidden;text-align: left;background-color: #f0f8ff;}#sk-container-id-4 div.sk-toggleable__content pre {margin: 0.2em;color: black;border-radius: 0.25em;background-color: #f0f8ff;}#sk-container-id-4 input.sk-toggleable__control:checked~div.sk-toggleable__content {max-height: 200px;max-width: 100%;overflow: auto;}#sk-container-id-4 input.sk-toggleable__control:checked~label.sk-toggleable__label-arrow:before {content: \"▾\";}#sk-container-id-4 div.sk-estimator input.sk-toggleable__control:checked~label.sk-toggleable__label {background-color: #d4ebff;}#sk-container-id-4 div.sk-label input.sk-toggleable__control:checked~label.sk-toggleable__label {background-color: #d4ebff;}#sk-container-id-4 input.sk-hidden--visually {border: 0;clip: rect(1px 1px 1px 1px);clip: rect(1px, 1px, 1px, 1px);height: 1px;margin: -1px;overflow: hidden;padding: 0;position: absolute;width: 1px;}#sk-container-id-4 div.sk-estimator {font-family: monospace;background-color: #f0f8ff;border: 1px dotted black;border-radius: 0.25em;box-sizing: border-box;margin-bottom: 0.5em;}#sk-container-id-4 div.sk-estimator:hover {background-color: #d4ebff;}#sk-container-id-4 div.sk-parallel-item::after {content: \"\";width: 100%;border-bottom: 1px solid gray;flex-grow: 1;}#sk-container-id-4 div.sk-label:hover label.sk-toggleable__label {background-color: #d4ebff;}#sk-container-id-4 div.sk-serial::before {content: \"\";position: absolute;border-left: 1px solid gray;box-sizing: border-box;top: 0;bottom: 0;left: 50%;z-index: 0;}#sk-container-id-4 div.sk-serial {display: flex;flex-direction: column;align-items: center;background-color: white;padding-right: 0.2em;padding-left: 0.2em;position: relative;}#sk-container-id-4 div.sk-item {position: relative;z-index: 1;}#sk-container-id-4 div.sk-parallel {display: flex;align-items: stretch;justify-content: center;background-color: white;position: relative;}#sk-container-id-4 div.sk-item::before, #sk-container-id-4 div.sk-parallel-item::before {content: \"\";position: absolute;border-left: 1px solid gray;box-sizing: border-box;top: 0;bottom: 0;left: 50%;z-index: -1;}#sk-container-id-4 div.sk-parallel-item {display: flex;flex-direction: column;z-index: 1;position: relative;background-color: white;}#sk-container-id-4 div.sk-parallel-item:first-child::after {align-self: flex-end;width: 50%;}#sk-container-id-4 div.sk-parallel-item:last-child::after {align-self: flex-start;width: 50%;}#sk-container-id-4 div.sk-parallel-item:only-child::after {width: 0;}#sk-container-id-4 div.sk-dashed-wrapped {border: 1px dashed gray;margin: 0 0.4em 0.5em 0.4em;box-sizing: border-box;padding-bottom: 0.4em;background-color: white;}#sk-container-id-4 div.sk-label label {font-family: monospace;font-weight: bold;display: inline-block;line-height: 1.2em;}#sk-container-id-4 div.sk-label-container {text-align: center;}#sk-container-id-4 div.sk-container {/* jupyter's `normalize.less` sets `[hidden] { display: none; }` but bootstrap.min.css set `[hidden] { display: none !important; }` so we also need the `!important` here to be able to override the default hidden behavior on the sphinx rendered scikit-learn.org. See: https://github.com/scikit-learn/scikit-learn/issues/21755 */display: inline-block !important;position: relative;}#sk-container-id-4 div.sk-text-repr-fallback {display: none;}</style><div id=\"sk-container-id-4\" class=\"sk-top-container\"><div class=\"sk-text-repr-fallback\"><pre>RandomForestClassifier(random_state=0)</pre><b>In a Jupyter environment, please rerun this cell to show the HTML representation or trust the notebook. <br />On GitHub, the HTML representation is unable to render, please try loading this page with nbviewer.org.</b></div><div class=\"sk-container\" hidden><div class=\"sk-item\"><div class=\"sk-estimator sk-toggleable\"><input class=\"sk-toggleable__control sk-hidden--visually\" id=\"sk-estimator-id-4\" type=\"checkbox\" checked><label for=\"sk-estimator-id-4\" class=\"sk-toggleable__label sk-toggleable__label-arrow\">RandomForestClassifier</label><div class=\"sk-toggleable__content\"><pre>RandomForestClassifier(random_state=0)</pre></div></div></div></div></div>"
      ],
      "text/plain": [
       "RandomForestClassifier(random_state=0)"
      ]
     },
     "execution_count": 41,
     "metadata": {},
     "output_type": "execute_result"
    }
   ],
   "source": [
    "from sklearn.ensemble import RandomForestClassifier\n",
    "\n",
    "RFC = RandomForestClassifier(random_state=0)\n",
    "RFC.fit(xv_train, y_train)"
   ]
  },
  {
   "cell_type": "code",
   "execution_count": 42,
   "metadata": {
    "execution": {
     "iopub.execute_input": "2024-04-18T13:52:23.255829Z",
     "iopub.status.busy": "2024-04-18T13:52:23.255489Z",
     "iopub.status.idle": "2024-04-18T13:52:23.921949Z",
     "shell.execute_reply": "2024-04-18T13:52:23.920974Z",
     "shell.execute_reply.started": "2024-04-18T13:52:23.255801Z"
    }
   },
   "outputs": [],
   "source": [
    "pred_rfc = RFC.predict(xv_test)"
   ]
  },
  {
   "cell_type": "code",
   "execution_count": 43,
   "metadata": {
    "execution": {
     "iopub.execute_input": "2024-04-18T14:30:10.894312Z",
     "iopub.status.busy": "2024-04-18T14:30:10.893967Z",
     "iopub.status.idle": "2024-04-18T14:30:11.490082Z",
     "shell.execute_reply": "2024-04-18T14:30:11.489164Z",
     "shell.execute_reply.started": "2024-04-18T14:30:10.894283Z"
    }
   },
   "outputs": [
    {
     "data": {
      "text/plain": [
       "0.9176498916445943"
      ]
     },
     "execution_count": 43,
     "metadata": {},
     "output_type": "execute_result"
    }
   ],
   "source": [
    "accuracy_model4 = RFC.score(xv_test, y_test)\n",
    "accuracy_model4"
   ]
  },
  {
   "cell_type": "code",
   "execution_count": 44,
   "metadata": {},
   "outputs": [
    {
     "name": "stdout",
     "output_type": "stream",
     "text": [
      "Confusion Matrix:\n",
      "[[1945  127]\n",
      " [ 215 1866]]\n"
     ]
    }
   ],
   "source": [
    "from sklearn.metrics import confusion_matrix\n",
    "\n",
    "conf_matrix = confusion_matrix(y_test, pred_rfc)\n",
    "print(\"Confusion Matrix:\")\n",
    "print(conf_matrix)"
   ]
  },
  {
   "cell_type": "code",
   "execution_count": 45,
   "metadata": {},
   "outputs": [
    {
     "data": {
      "image/png": "[encoded data removed]",
      "text/plain": [
       "<Figure size 640x480 with 2 Axes>"
      ]
     },
     "metadata": {},
     "output_type": "display_data"
    }
   ],
   "source": [
    "import seaborn as sns\n",
    "import matplotlib.pyplot as plt\n",
    "\n",
    "conf_matrix = confusion_matrix(y_test, pred_rfc)\n",
    "sns.heatmap(conf_matrix, annot=True, cmap=\"Blues\", fmt=\"d\")\n",
    "plt.xlabel('Predicted Labels')\n",
    "plt.ylabel('True Labels')\n",
    "plt.title('Confusion Matrix')\n",
    "plt.show()"
   ]
  },
  {
   "cell_type": "code",
   "execution_count": 46,
   "metadata": {
    "execution": {
     "iopub.execute_input": "2024-04-18T13:52:30.678880Z",
     "iopub.status.busy": "2024-04-18T13:52:30.678537Z",
     "iopub.status.idle": "2024-04-18T13:52:30.694871Z",
     "shell.execute_reply": "2024-04-18T13:52:30.693988Z",
     "shell.execute_reply.started": "2024-04-18T13:52:30.678851Z"
    }
   },
   "outputs": [
    {
     "name": "stdout",
     "output_type": "stream",
     "text": [
      "              precision    recall  f1-score   support\n",
      "\n",
      "           0       0.90      0.94      0.92      2072\n",
      "           1       0.94      0.90      0.92      2081\n",
      "\n",
      "    accuracy                           0.92      4153\n",
      "   macro avg       0.92      0.92      0.92      4153\n",
      "weighted avg       0.92      0.92      0.92      4153\n",
      "\n"
     ]
    }
   ],
   "source": [
    "print(classification_report(y_test, pred_rfc))"
   ]
  },
  {
   "cell_type": "code",
   "execution_count": 56,
   "metadata": {},
   "outputs": [
    {
     "data": {
      "image/png": "[encoded data removed]",
      "text/plain": [
       "<Figure size 600x400 with 1 Axes>"
      ]
     },
     "metadata": {},
     "output_type": "display_data"
    }
   ],
   "source": [
    "from sklearn.metrics import precision_recall_fscore_support\n",
    "import numpy as np\n",
    "\n",
    "# Calculate precision, recall, and F1-score\n",
    "precision, recall, fscore, support = precision_recall_fscore_support(y_test, pred_rfc)\n",
    "\n",
    "# Plotting precision, recall, and F1-score\n",
    "labels = ['Class 0', 'Class 1']\n",
    "x = np.arange(len(labels)) \n",
    "width = 0.2  \n",
    "\n",
    "fig, ax = plt.subplots(figsize=(6,4))\n",
    "\n",
    "ax.bar(x - width, precision, width, label='Precision')\n",
    "ax.bar(x, recall, width, label='Recall')\n",
    "ax.bar(x + width, fscore, width, label='F1-score')\n",
    "\n",
    "ax.set_ylabel('Scores')\n",
    "ax.set_title('Precision, Recall, and F1-score')\n",
    "ax.set_xticks(x)\n",
    "ax.set_xticklabels(labels)\n",
    "ax.legend()\n",
    "\n",
    "plt.show()"
   ]
  },
  {
   "cell_type": "code",
   "execution_count": 47,
   "metadata": {
    "execution": {
     "iopub.execute_input": "2024-04-18T14:31:43.611538Z",
     "iopub.status.busy": "2024-04-18T14:31:43.611170Z",
     "iopub.status.idle": "2024-04-18T14:31:43.760166Z",
     "shell.execute_reply": "2024-04-18T14:31:43.759313Z",
     "shell.execute_reply.started": "2024-04-18T14:31:43.611508Z"
    }
   },
   "outputs": [
    {
     "data": {
      "image/png": "[encoded data removed]",
      "text/plain": [
       "<Figure size 800x600 with 1 Axes>"
      ]
     },
     "metadata": {},
     "output_type": "display_data"
    }
   ],
   "source": [
    "# Comparing Accuracy\n",
    "import matplotlib.pyplot as plt\n",
    "\n",
    "# List of model names\n",
    "models = ['LR', 'DT', 'GBC', 'RFC']\n",
    "\n",
    "# List of accuracies for each model\n",
    "accuracies = [accuracy_model1, accuracy_model2, accuracy_model3, accuracy_model4]\n",
    "\n",
    "# Plotting the accuracies\n",
    "plt.figure(figsize=(8, 6))\n",
    "bars = plt.bar(models, accuracies, color='skyblue')\n",
    "plt.xlabel('Models')\n",
    "plt.ylabel('Accuracy')\n",
    "plt.title('Accuracy of Four Different Models')\n",
    "plt.ylim(0, 1)  # Set y-axis limits to ensure accuracy values are within the range [0, 1]\n",
    "plt.grid(axis='y')  # Add gridlines along the y-axis\n",
    "\n",
    "# Annotate bars with accuracy values\n",
    "for bar, accuracy in zip(bars, accuracies):\n",
    "    plt.text(bar.get_x() + bar.get_width() / 2, bar.get_height() + 0.02, f'{accuracy:.2f}', ha='center', va='bottom')\n",
    "\n",
    "plt.show()"
   ]
  }
 ],
 "metadata": {
  "kaggle": {
   "accelerator": "gpu",
   "dataSources": [
    {
     "datasetId": 4824690,
     "sourceId": 8156192,
     "sourceType": "datasetVersion"
    }
   ],
   "dockerImageVersionId": 30056,
   "isGpuEnabled": true,
   "isInternetEnabled": true,
   "language": "python",
   "sourceType": "notebook"
  },
  "kernelspec": {
   "display_name": "Python 3 (ipykernel)",
   "language": "python",
   "name": "python3"
  },
  "language_info": {
   "codemirror_mode": {
    "name": "ipython",
    "version": 3
   },
   "file_extension": ".py",
   "mimetype": "text/x-python",
   "name": "python",
   "nbconvert_exporter": "python",
   "pygments_lexer": "ipython3",
   "version": "3.10.11"
  }
 },
 "nbformat": 4,
 "nbformat_minor": 4
}
